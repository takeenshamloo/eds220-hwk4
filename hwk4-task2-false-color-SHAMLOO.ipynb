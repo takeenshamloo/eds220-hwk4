{
 "cells": [
  {
   "cell_type": "markdown",
   "metadata": {},
   "source": [
    "## Load imports"
   ]
  },
  {
   "cell_type": "code",
   "execution_count": 48,
   "metadata": {},
   "outputs": [],
   "source": [
    "# Load necessary packages\n",
    "import os\n",
    "import matplotlib.pyplot as plt\n",
    "import numpy as np\n",
    "import geopandas as gpd\n",
    "import rioxarray as rioxr\n",
    "import rasterio\n",
    "from rasterio.plot import show\n"
   ]
  },
  {
   "cell_type": "markdown",
   "metadata": {},
   "source": [
    "# Task 2: Visualizing Fire Scars through False Color\n",
    "\n",
    "## Instructions\n",
    "\n",
    "- Update the following cell to include a link to your GitHub repository:\n",
    "\n",
    "**UPDATE THIS LINK**  \n",
    "https://github.com/takeenshamloo/eds220-hwk4\n",
    "\n",
    "- Review the complete rubric before starting.\n",
    "\n",
    "- Meaningful commits should be made every time you finish a major step. We'll check your repository and view the commit history.\n",
    "\n",
    "- Ensure every code cell has clear and concise comments.\n",
    "\n",
    "## About the Data\n",
    "\n",
    "The dataset contains Landsat reflectance data for red, green, blue, near infrared, and shortwave infrared bands. This task involves reprojecting and visualizing these data.\n"
   ]
  }
 ],
 "metadata": {
  "kernelspec": {
   "display_name": "Python 3.8.8 ('base')",
   "language": "python",
   "name": "python3"
  },
  "language_info": {
   "codemirror_mode": {
    "name": "ipython",
    "version": 3
   },
   "file_extension": ".py",
   "mimetype": "text/x-python",
   "name": "python",
   "nbconvert_exporter": "python",
   "pygments_lexer": "ipython3",
   "version": "3.8.8"
  },
  "orig_nbformat": 4,
  "vscode": {
   "interpreter": {
    "hash": "96ebf3b21eabf7cf28685656aee514e31d9e0e5a3cbd0b6438e4a6a83bf7054f"
   }
  }
 },
 "nbformat": 4,
 "nbformat_minor": 2
}
