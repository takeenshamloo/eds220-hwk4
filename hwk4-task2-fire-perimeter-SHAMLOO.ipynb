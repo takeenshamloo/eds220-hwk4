{
 "cells": [
  {
   "cell_type": "markdown",
   "metadata": {},
   "source": [
    "## Load Imports"
   ]
  },
  {
   "cell_type": "code",
   "execution_count": 64,
   "metadata": {},
   "outputs": [],
   "source": [
    "# Load necessary packages\n",
    "import os\n",
    "import geopandas as gpd\n",
    "import matplotlib.pyplot as plt\n",
    "import rioxarray as rioxr\n",
    "import requests\n",
    "import zipfile\n",
    "import fiona\n",
    "import io\n",
    "from shapely.geometry import shape\n",
    "\n",
    "# URL of the ZIP file containing the shapefile\n",
    "url = 'https://gis.data.cnra.ca.gov/api/download/v1/items/e3802d2abf8741a187e73a9db49d68fe/shapefile?layers=0'\n",
    "\n",
    "# Directory for downloaded data\n",
    "data_dir = 'data'\n",
    "os.makedirs(data_dir, exist_ok = True)\n",
    "\n",
    "# File paths\n",
    "zip_file_path = os.path.join(data_dir, 'fire_perimeter.zip')\n",
    "shapefile_dir = os.path.join(data_dir, 'fire_perimeter')\n"
   ]
  },
  {
   "cell_type": "markdown",
   "metadata": {},
   "source": [
    "# Task 2: Visualizing fire perimeter of Thomas fire\n",
    "\n",
    "## Instructions\n",
    "\n",
    "- First, update the following cell to have a link to *your* Homework 3 GitHub repository:\n",
    "\n",
    "**UPDATE THIS LINK**\n",
    "https://github.com/takeenshamloo/eds220-hwk4\n",
    "\n",
    "\n",
    "- Review the [complete rubric for this task](https://docs.google.com/document/d/1-Zm731BLVCs1MXHT5R1H9rr6uvcwHnMZQ2q8xkQ_fWM/edit?tab=t.0) before starting.\n",
    "\n",
    "- **Meaningful commits should be made every time you finish a major step.** We'll check your repository and view the commit history.\n",
    "\n",
    "- Comment mindfully in a way that enriches your code. Comments should follow best practices.\n",
    "\n",
    "- **Do not update the top cell with the `otter` import**, this is used internally for grading.\n",
    "\n",
    "- Delete all the comments initially included in this notebook (ex: `# Your code here`).\n",
    "\n",
    "\n",
    "## About the data\n",
    "\n",
    "For our data we will be reading in Thomas Fire Data from 2017 and outlining the perimeter of the fire."
   ]
  },
  {
   "cell_type": "markdown",
   "metadata": {},
   "source": [
    "## Section 1: Download and Extract Fire Perimeter Data\n",
    "\n",
    "In this section, we will download the fire perimeter shapefile from the provided URL and extract it for further analysis.\n",
    "\n"
   ]
  },
  {
   "cell_type": "code",
   "execution_count": 80,
   "metadata": {},
   "outputs": [
    {
     "name": "stdout",
     "output_type": "stream",
     "text": [
      "Extracted files: ['California_Fire_Perimeters_(all).prj', 'California_Fire_Perimeters_(all).dbf', 'California_Fire_Perimeters_(all).shp.xml', 'California_Fire_Perimeters_(all).shx', 'California_Fire_Perimeters_(all).cpg', 'California_Fire_Perimeters_(all).shp']\n"
     ]
    }
   ],
   "source": [
    "# Download the ZIP file\n",
    "if not os.path.exists(zip_file_path):\n",
    "    print(\"Downloading fire perimeter data...\")\n",
    "    response = requests.get(url)\n",
    "    with open(zip_file_path, 'wb') as f:\n",
    "        f.write(response.content)\n",
    "    print(\"Download complete.\")\n",
    "\n",
    "# Extract the ZIP file\n",
    "if not os.path.exists(shapefile_dir):\n",
    "    print(\"Extracting shapefile...\")\n",
    "    with zipfile.ZipFile(zip_file_path, 'r') as zip_ref:\n",
    "        zip_ref.extractall(shapefile_dir)\n",
    "    print(\"Extraction complete.\")\n",
    "\n",
    "# List extracted files\n",
    "extracted_files = os.listdir(shapefile_dir)\n",
    "print(\"Extracted files:\", extracted_files)"
   ]
  },
  {
   "cell_type": "markdown",
   "metadata": {},
   "source": [
    "## Section 2: Load Fire Perimeter Data\n",
    "\n",
    "Here, we will load the extracted fire perimeter shapefile and explore its attributes."
   ]
  },
  {
   "cell_type": "code",
   "execution_count": 81,
   "metadata": {},
   "outputs": [
    {
     "name": "stdout",
     "output_type": "stream",
     "text": [
      "  AGENCY  ALARM_DATE  CAUSE COMMENTS COMPLEX_ID COMPLEX_NA   CONT_DATE  \\\n",
      "0    CDF  2023-06-17      5     None       None       None  2023-06-17   \n",
      "1    LRA  2023-06-02      5     None       None       None  2023-06-02   \n",
      "2    CDF  2023-07-01      2     None       None       None  2023-07-02   \n",
      "3    CDF  2023-07-11      9     None       None       None  2023-07-11   \n",
      "4    CDF  2023-07-11     14     None       None       None  2023-07-12   \n",
      "\n",
      "   C_METHOD  DECADES  FIRE_NAME FIRE_NUM  GIS_ACRES   INC_NUM  \\\n",
      "0         1     2020  WHITWORTH     None    5.72913  00004808   \n",
      "1         1     2020     KAISER     None   13.60240  00010225   \n",
      "2         1     2020    JACKSON     None   27.81450  00017640   \n",
      "3         1     2020     CARBON     None   58.76020  00018821   \n",
      "4         1     2020    LIBERTY     None   70.97900  00018876   \n",
      "\n",
      "                                  IRWINID  OBJECTIVE STATE UNIT_ID  YEAR_  \\\n",
      "0  {7985848C-0AC2-4BA4-8F0E-29F778652E61}          1    CA     SKU   2023   \n",
      "1  {43EBCC88-B3AC-48EB-8EF5-417FE0939CCF}          1    CA     BTU   2023   \n",
      "2  {B64E1355-BF1D-441A-95D0-BC1FBB93483B}          1    CA     AEU   2023   \n",
      "3  {CB41DB0A-E4B1-489D-A4EA-738F2CD6DB3B}          1    CA     AEU   2023   \n",
      "4  {F83F70A4-07A7-40B8-BD51-10CCC1C30D63}          1    CA     AEU   2023   \n",
      "\n",
      "                                            geometry  \n",
      "0  POLYGON ((-13682443.000 5091132.739, -13682445...  \n",
      "1  POLYGON ((-13576727.142 4841226.161, -13576726...  \n",
      "2  POLYGON ((-13459243.000 4621236.000, -13458968...  \n",
      "3  POLYGON ((-13468077.000 4642260.000, -13467975...  \n",
      "4  POLYGON ((-13468418.000 4614853.000, -13468428...  \n"
     ]
    }
   ],
   "source": [
    "# Important note:\n",
    "# This code was written on my own VSCode python environment\n",
    "# gpd.read_file was having issues with the fiona package and a path attribute\n",
    "# There was a version conflict for my geopandas and fiona sub package so I routed to use fiona directly\n",
    "\n",
    "# Read shapefile with Fion\n",
    "shapefile_path = \"data/fire_perimeter/California_Fire_Perimeters_(all).shp\"\n",
    "with fiona.open(shapefile_path, \"r\") as shapefile:\n",
    "    records = [feature for feature in shapefile]\n",
    "\n",
    "# Convert to GeoDataFrame\n",
    "geometries = [shape(record[\"geometry\"]) for record in records]\n",
    "attributes = [record[\"properties\"] for record in records]\n",
    "fire_perimeter = gpd.GeoDataFrame(attributes, geometry=geometries, crs=shapefile.crs)\n",
    "\n",
    "print(fire_perimeter.head())\n"
   ]
  },
  {
   "cell_type": "markdown",
   "metadata": {},
   "source": [
    "## Section 3: Filter for Thomas Fire Data (2017)"
   ]
  },
  {
   "cell_type": "code",
   "execution_count": 83,
   "metadata": {},
   "outputs": [
    {
     "name": "stdout",
     "output_type": "stream",
     "text": [
      "     AGENCY  ALARM_DATE  CAUSE                    COMMENTS COMPLEX_ID  \\\n",
      "2654    USF  2017-12-04      9  CONT_DATE based on Inciweb       None   \n",
      "\n",
      "     COMPLEX_NA   CONT_DATE  C_METHOD  DECADES FIRE_NAME FIRE_NUM  GIS_ACRES  \\\n",
      "2654       None  2018-01-12         7     2010    THOMAS     None   281791.0   \n",
      "\n",
      "       INC_NUM IRWINID  OBJECTIVE STATE UNIT_ID  YEAR_  \\\n",
      "2654  00003583    None          1    CA     VNC   2017   \n",
      "\n",
      "                                               geometry  \n",
      "2654  MULTIPOLYGON (((-13316089.016 4088553.040, -13...  \n",
      "Thomas Fire data found!\n"
     ]
    }
   ],
   "source": [
    "# Filter for the 2017 Thomas Fire\n",
    "thomas_fire_2017 = fire_perimeter[(fire_perimeter[\"YEAR_\"] == 2017) & \n",
    "                                  (fire_perimeter[\"FIRE_NAME\"].str.contains(\"Thomas\", case=False))]\n",
    "\n",
    "# Check the filtered data\n",
    "print(thomas_fire_2017)"
   ]
  },
  {
   "cell_type": "markdown",
   "metadata": {},
   "source": [
    "## Section 4: Save and Visualize Thomas Fire Data"
   ]
  },
  {
   "cell_type": "code",
   "execution_count": 85,
   "metadata": {},
   "outputs": [
    {
     "name": "stdout",
     "output_type": "stream",
     "text": [
      "Thomas Fire data saved to data/thomas_fire_2017.geojson\n"
     ]
    },
    {
     "data": {
      "image/png": "[encoded data removed]",
      "text/plain": [
       "<Figure size 720x720 with 1 Axes>"
      ]
     },
     "metadata": {
      "needs_background": "light"
     },
     "output_type": "display_data"
    }
   ],
   "source": [
    "# Save as GeoJSON\n",
    "output_path = os.path.join(data_dir, \"thomas_fire_2017.geojson\")\n",
    "thomas_fire_2017.to_file(output_path, driver = \"GeoJSON\")\n",
    "print(f\"Thomas Fire data saved to {output_path}\")\n",
    "\n",
    "# Plot the Thomas Fire boundary\n",
    "thomas_fire_2017.plot(color = \"maroon\", edgecolor = \"black\", figsize = (10, 10))\n",
    "plt.title(\"2017 Thomas Fire Boundary\")\n",
    "plt.xlabel(\"Longitude\")\n",
    "plt.ylabel(\"Latitude\")\n",
    "plt.show()"
   ]
  },
  {
   "cell_type": "code",
   "execution_count": null,
   "metadata": {},
   "outputs": [],
   "source": []
  }
 ],
 "metadata": {
  "kernelspec": {
   "display_name": "Python 3.8.8 ('base')",
   "language": "python",
   "name": "python3"
  },
  "language_info": {
   "codemirror_mode": {
    "name": "ipython",
    "version": 3
   },
   "file_extension": ".py",
   "mimetype": "text/x-python",
   "name": "python",
   "nbconvert_exporter": "python",
   "pygments_lexer": "ipython3",
   "version": "3.8.8"
  },
  "orig_nbformat": 4,
  "vscode": {
   "interpreter": {
    "hash": "96ebf3b21eabf7cf28685656aee514e31d9e0e5a3cbd0b6438e4a6a83bf7054f"
   }
  }
 },
 "nbformat": 4,
 "nbformat_minor": 2
}
