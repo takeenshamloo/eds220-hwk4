{
 "cells": [
  {
   "cell_type": "markdown",
   "metadata": {},
   "source": [
    "## Load Imports"
   ]
  },
  {
   "cell_type": "code",
   "execution_count": 64,
   "metadata": {},
   "outputs": [],
   "source": [
    "# Load necessary packages\n",
    "import os\n",
    "import geopandas as gpd\n",
    "import matplotlib.pyplot as plt\n",
    "import rioxarray as rioxr\n",
    "import requests\n",
    "import zipfile\n",
    "import fiona\n",
    "import io\n",
    "from shapely.geometry import shape\n",
    "\n",
    "# URL of the ZIP file containing the shapefile\n",
    "url = 'https://gis.data.cnra.ca.gov/api/download/v1/items/e3802d2abf8741a187e73a9db49d68fe/shapefile?layers=0'\n",
    "\n",
    "# Directory for downloaded data\n",
    "data_dir = 'data'\n",
    "os.makedirs(data_dir, exist_ok = True)\n",
    "\n",
    "# File paths\n",
    "zip_file_path = os.path.join(data_dir, 'fire_perimeter.zip')\n",
    "shapefile_dir = os.path.join(data_dir, 'fire_perimeter')\n"
   ]
  },
  {
   "cell_type": "markdown",
   "metadata": {},
   "source": [
    "# Task 2: Visualizing fire perimeter of Thomas fire\n",
    "\n",
    "## Instructions\n",
    "\n",
    "- First, update the following cell to have a link to *your* Homework 3 GitHub repository:\n",
    "\n",
    "**UPDATE THIS LINK**\n",
    "https://github.com/takeenshamloo/eds220-hwk4\n",
    "\n",
    "\n",
    "- Review the [complete rubric for this task](https://docs.google.com/document/d/1-Zm731BLVCs1MXHT5R1H9rr6uvcwHnMZQ2q8xkQ_fWM/edit?tab=t.0) before starting.\n",
    "\n",
    "- **Meaningful commits should be made every time you finish a major step.** We'll check your repository and view the commit history.\n",
    "\n",
    "- Comment mindfully in a way that enriches your code. Comments should follow best practices.\n",
    "\n",
    "- **Do not update the top cell with the `otter` import**, this is used internally for grading.\n",
    "\n",
    "- Delete all the comments initially included in this notebook (ex: `# Your code here`).\n",
    "\n",
    "\n",
    "## About the data\n",
    "\n",
    "For our data we will be reading in Thomas Fire Data from 2017 and outlining the perimeter of the fire."
   ]
  },
  {
   "cell_type": "markdown",
   "metadata": {},
   "source": [
    "## Section 1: Download and Extract Fire Perimeter Data\n",
    "\n",
    "In this section, we will download the fire perimeter shapefile from the provided URL and extract it for further analysis.\n",
    "\n"
   ]
  },
  {
   "cell_type": "code",
   "execution_count": 80,
   "metadata": {},
   "outputs": [
    {
     "name": "stdout",
     "output_type": "stream",
     "text": [
      "Extracted files: ['California_Fire_Perimeters_(all).prj', 'California_Fire_Perimeters_(all).dbf', 'California_Fire_Perimeters_(all).shp.xml', 'California_Fire_Perimeters_(all).shx', 'California_Fire_Perimeters_(all).cpg', 'California_Fire_Perimeters_(all).shp']\n"
     ]
    }
   ],
   "source": [
    "# Download the ZIP file\n",
    "if not os.path.exists(zip_file_path):\n",
    "    print(\"Downloading fire perimeter data...\")\n",
    "    response = requests.get(url)\n",
    "    with open(zip_file_path, 'wb') as f:\n",
    "        f.write(response.content)\n",
    "    print(\"Download complete.\")\n",
    "\n",
    "# Extract the ZIP file\n",
    "if not os.path.exists(shapefile_dir):\n",
    "    print(\"Extracting shapefile...\")\n",
    "    with zipfile.ZipFile(zip_file_path, 'r') as zip_ref:\n",
    "        zip_ref.extractall(shapefile_dir)\n",
    "    print(\"Extraction complete.\")\n",
    "\n",
    "# List extracted files\n",
    "extracted_files = os.listdir(shapefile_dir)\n",
    "print(\"Extracted files:\", extracted_files)"
   ]
  },
  {
   "cell_type": "code",
   "execution_count": null,
   "metadata": {},
   "outputs": [],
   "source": []
  }
 ],
 "metadata": {
  "kernelspec": {
   "display_name": "Python 3.8.8 ('base')",
   "language": "python",
   "name": "python3"
  },
  "language_info": {
   "codemirror_mode": {
    "name": "ipython",
    "version": 3
   },
   "file_extension": ".py",
   "mimetype": "text/x-python",
   "name": "python",
   "nbconvert_exporter": "python",
   "pygments_lexer": "ipython3",
   "version": "3.8.8"
  },
  "orig_nbformat": 4,
  "vscode": {
   "interpreter": {
    "hash": "96ebf3b21eabf7cf28685656aee514e31d9e0e5a3cbd0b6438e4a6a83bf7054f"
   }
  }
 },
 "nbformat": 4,
 "nbformat_minor": 2
}
